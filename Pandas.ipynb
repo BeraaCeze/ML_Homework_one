{
 "cells": [
  {
   "cell_type": "markdown",
   "id": "ea9747b7",
   "metadata": {},
   "source": [
    "#  Pandas"
   ]
  },
  {
   "cell_type": "code",
   "execution_count": 6,
   "id": "bebc2044",
   "metadata": {},
   "outputs": [],
   "source": [
    "\n",
    "import numpy as np\n",
    "import pandas as pd\n"
   ]
  },
  {
   "cell_type": "markdown",
   "id": "946e9d07",
   "metadata": {},
   "source": [
    "### create a three dimensional array ( as row)"
   ]
  },
  {
   "cell_type": "code",
   "execution_count": 26,
   "id": "bc2718a5",
   "metadata": {},
   "outputs": [],
   "source": [
    "data = np.array([[32, 2 , 1],[25, 7 , 6],[26, 5 , 5],[30, 3 , 2]])"
   ]
  },
  {
   "cell_type": "markdown",
   "id": "05b97914",
   "metadata": {},
   "source": [
    "### Create a string list as ( as column )"
   ]
  },
  {
   "cell_type": "code",
   "execution_count": 27,
   "id": "9ae4b14c",
   "metadata": {},
   "outputs": [],
   "source": [
    "column = ['temperature', 'activity','sport']"
   ]
  },
  {
   "cell_type": "markdown",
   "id": "38e087a4",
   "metadata": {},
   "source": [
    " ### pd.DataFrame get two parameters ( data as row , columns as column )"
   ]
  },
  {
   "cell_type": "code",
   "execution_count": 31,
   "id": "62f58911",
   "metadata": {},
   "outputs": [
    {
     "name": "stdout",
     "output_type": "stream",
     "text": [
      "   temperature  activity  sport\n",
      "0           32         2      1\n",
      "1           25         7      6\n",
      "2           26         5      5\n",
      "3           30         3      2\n"
     ]
    }
   ],
   "source": [
    "dataFrame = pd.DataFrame(data=data, columns=column)\n",
    "print (dataFrame) "
   ]
  },
  {
   "cell_type": "markdown",
   "id": "9b34735b",
   "metadata": {},
   "source": [
    "### create a new column names \"adjusted\" have value from \"activity\" column + 2"
   ]
  },
  {
   "cell_type": "code",
   "execution_count": 33,
   "id": "aec78e64",
   "metadata": {},
   "outputs": [
    {
     "name": "stdout",
     "output_type": "stream",
     "text": [
      "   temperature  activity  sport  adjusted\n",
      "0           32         2      1         4\n",
      "1           25         7      6         9\n",
      "2           26         5      5         7\n",
      "3           30         3      2         5\n"
     ]
    }
   ],
   "source": [
    "dataFrame[\"adjusted\"] = dataFrame[\"activity\"] + 2\n",
    "print(dataFrame)"
   ]
  },
  {
   "cell_type": "markdown",
   "id": "f8b7098a",
   "metadata": {},
   "source": [
    "### print first two row in array\n",
    "#### index 0 and index 1"
   ]
  },
  {
   "cell_type": "code",
   "execution_count": 35,
   "id": "0ca373e2",
   "metadata": {},
   "outputs": [
    {
     "name": "stdout",
     "output_type": "stream",
     "text": [
      "   temperature  activity  sport  adjusted\n",
      "0           32         2      1         4\n",
      "1           25         7      6         9 \n",
      "\n"
     ]
    }
   ],
   "source": [
    "print( dataFrame.head(2), '\\n')"
   ]
  },
  {
   "cell_type": "markdown",
   "id": "58eea873",
   "metadata": {},
   "source": [
    "### print just seconde row in array\n",
    "#### index 2 "
   ]
  },
  {
   "cell_type": "code",
   "execution_count": 36,
   "id": "7eea98c9",
   "metadata": {},
   "outputs": [
    {
     "name": "stdout",
     "output_type": "stream",
     "text": [
      "   temperature  activity  sport  adjusted\n",
      "2           26         5      5         7 \n",
      "\n"
     ]
    }
   ],
   "source": [
    "print( dataFrame.iloc[[2]], '\\n')"
   ]
  },
  {
   "cell_type": "markdown",
   "id": "dbfc3e6e",
   "metadata": {},
   "source": [
    "### print from index 2 to index 4 ( index 4 not exist)\n",
    "#### print index 2 and index 3 "
   ]
  },
  {
   "cell_type": "code",
   "execution_count": 38,
   "id": "87252f0a",
   "metadata": {},
   "outputs": [
    {
     "name": "stdout",
     "output_type": "stream",
     "text": [
      "   temperature  activity  sport  adjusted\n",
      "2           26         5      5         7\n",
      "3           30         3      2         5 \n",
      "\n"
     ]
    }
   ],
   "source": [
    "print(dataFrame[2:4], '\\n')"
   ]
  },
  {
   "cell_type": "markdown",
   "id": "a5c9e9af",
   "metadata": {},
   "source": [
    "### print all row data for this column"
   ]
  },
  {
   "cell_type": "code",
   "execution_count": 39,
   "id": "65b55b43",
   "metadata": {},
   "outputs": [
    {
     "name": "stdout",
     "output_type": "stream",
     "text": [
      "0    32\n",
      "1    25\n",
      "2    26\n",
      "3    30\n",
      "Name: temperature, dtype: int64\n"
     ]
    }
   ],
   "source": [
    "print(dataFrame['temperature'])"
   ]
  },
  {
   "cell_type": "markdown",
   "id": "a7deb9f2",
   "metadata": {},
   "source": [
    "# Task 1\n",
    "\n",
    "#### Do the following:\n",
    "#### Create an 3x4 (3 rows x 4 columns) pandas DataFrame in which the columns are named Eleanor, Chidi, Tahani, and Jason. Populate each of the 12 cells in the DataFrame with a random integer between 0 and 100, inclusive.\n",
    "#### Output the following:\n",
    "#### the entire DataFrame\n",
    "#### the value in the cell of row #1 of the Eleanor column\n",
    "#### Create a fifth column named Janet, which is populated with the row-by-row sums of Tahani and Jason.\n",
    "#### To complete this task, it helps to know the NumPy basics covered in the NumPy UltraQuick Tutorial."
   ]
  },
  {
   "cell_type": "code",
   "execution_count": 85,
   "id": "57eaba42",
   "metadata": {},
   "outputs": [],
   "source": [
    "row2    = np.random.randint(low=0, high=101, size= (3 , 4) )\n",
    "column2 = ['Eleanor', 'Chidi','Tahani','Jason']"
   ]
  },
  {
   "cell_type": "code",
   "execution_count": 86,
   "id": "c4f3f222",
   "metadata": {},
   "outputs": [
    {
     "name": "stdout",
     "output_type": "stream",
     "text": [
      "Data Frame is \n",
      "\n",
      "   Eleanor  Chidi  Tahani  Jason\n",
      "0       97     34      31     82\n",
      "1        2     23      97     63\n",
      "2       20      7      10     57\n"
     ]
    }
   ],
   "source": [
    "dataFrame2 = pd.DataFrame(data=row2, columns=column2)\n",
    "print (\"Data Frame is \\n\")\n",
    "print (dataFrame2)"
   ]
  },
  {
   "cell_type": "code",
   "execution_count": 87,
   "id": "4757d5cc",
   "metadata": {},
   "outputs": [
    {
     "name": "stdout",
     "output_type": "stream",
     "text": [
      " the value in Eleanor coulumn in 1 cell is :  2\n"
     ]
    }
   ],
   "source": [
    "print(f\" the value in Eleanor coulumn in 1 cell is :  {dataFrame2['Eleanor'][1]}\")"
   ]
  },
  {
   "cell_type": "code",
   "execution_count": 104,
   "id": "2be2317d",
   "metadata": {},
   "outputs": [
    {
     "name": "stdout",
     "output_type": "stream",
     "text": [
      "   Eleanor  Chidi  Tahani  Jason  adjusted\n",
      "0       97     34      31     82       113\n",
      "1        2     23      97     88       185\n",
      "2       20      7      10     25        35\n"
     ]
    }
   ],
   "source": [
    "dataFrame2[\"adjusted\"] = dataFrame2[\"Tahani\"] + dataFrame2[\"Jason\"] \n",
    "print (dataFrame2)"
   ]
  },
  {
   "cell_type": "markdown",
   "id": "742f357a",
   "metadata": {},
   "source": [
    "### modify a cell"
   ]
  },
  {
   "cell_type": "code",
   "execution_count": 110,
   "id": "5624f694",
   "metadata": {},
   "outputs": [
    {
     "name": "stdout",
     "output_type": "stream",
     "text": [
      "old value 103 and 30 \n",
      "new value 108 and 35 \n"
     ]
    }
   ],
   "source": [
    "print (f\"old value {dataFrame2['Jason'][1]} and {dataFrame2['Jason'][2]} \")\n",
    "\n",
    "dataFrame2.at[1, 'Jason'] = dataFrame2 ['Jason'][1] + 5\n",
    "dataFrame2 ['Jason'][2]   = dataFrame2 ['Jason'][2] + 5\n",
    "\n",
    "print (f\"new value {dataFrame2['Jason'][1]} and {dataFrame2['Jason'][2]} \")\n"
   ]
  },
  {
   "cell_type": "markdown",
   "id": "f40d15d2",
   "metadata": {},
   "source": [
    "### Create a true copy of dataFrame2"
   ]
  },
  {
   "cell_type": "code",
   "execution_count": 98,
   "id": "66afee6b",
   "metadata": {},
   "outputs": [
    {
     "name": "stdout",
     "output_type": "stream",
     "text": [
      "  Starting value of copy_of_my_dataframe: 67\n",
      "\n"
     ]
    }
   ],
   "source": [
    "copy_of_dataFrame2 = dataFrame2.copy()\n",
    "copy_of_dataFrame3 = dataFrame2\n",
    "print(\"  Starting value of copy_of_my_dataframe: %d\\n\" % copy_of_dataFrame3['adjusted'][2])"
   ]
  },
  {
   "cell_type": "markdown",
   "id": "ea1495dc",
   "metadata": {},
   "source": [
    "#  Finish"
   ]
  }
 ],
 "metadata": {
  "kernelspec": {
   "display_name": "Python 3 (ipykernel)",
   "language": "python",
   "name": "python3"
  },
  "language_info": {
   "codemirror_mode": {
    "name": "ipython",
    "version": 3
   },
   "file_extension": ".py",
   "mimetype": "text/x-python",
   "name": "python",
   "nbconvert_exporter": "python",
   "pygments_lexer": "ipython3",
   "version": "3.11.3"
  }
 },
 "nbformat": 4,
 "nbformat_minor": 5
}
