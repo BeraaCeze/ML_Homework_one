{
 "cells": [
  {
   "cell_type": "markdown",
   "id": "c572089d",
   "metadata": {},
   "source": [
    "# Numpy Module"
   ]
  },
  {
   "cell_type": "code",
   "execution_count": 3,
   "id": "2f88093b",
   "metadata": {},
   "outputs": [],
   "source": [
    "import numpy as np \n"
   ]
  },
  {
   "cell_type": "markdown",
   "id": "f2cf3189",
   "metadata": {},
   "source": [
    "### create a one dimensional array using np.array to "
   ]
  },
  {
   "cell_type": "code",
   "execution_count": 3,
   "id": "1bc454a2",
   "metadata": {
    "scrolled": true
   },
   "outputs": [
    {
     "name": "stdout",
     "output_type": "stream",
     "text": [
      "[ 1.   2.  10.   5.7]\n"
     ]
    }
   ],
   "source": [
    "array = np.array([ 1,2,10,5.7])\n",
    "print(array) "
   ]
  },
  {
   "cell_type": "markdown",
   "id": "42b62971",
   "metadata": {},
   "source": [
    "### create a two dimensional array using np.array "
   ]
  },
  {
   "cell_type": "code",
   "execution_count": 4,
   "id": "bf675ba6",
   "metadata": {},
   "outputs": [
    {
     "name": "stdout",
     "output_type": "stream",
     "text": [
      "[[10.   6.4]\n",
      " [14.   7. ]\n",
      " [12.   8. ]]\n"
     ]
    }
   ],
   "source": [
    "array2 = np.array([[10, 6.4], [14, 7], [12, 8]])\n",
    "print(array2)\n"
   ]
  },
  {
   "cell_type": "markdown",
   "id": "dc62e0e8",
   "metadata": {},
   "source": [
    "### arrays with sequences of numbers (print number from A to B-1)"
   ]
  },
  {
   "cell_type": "code",
   "execution_count": 6,
   "id": "0f97fa9d",
   "metadata": {},
   "outputs": [
    {
     "name": "stdout",
     "output_type": "stream",
     "text": [
      "[ 5  6  7  8  9 10 11]\n"
     ]
    }
   ],
   "source": [
    "numbers = np.arange(5, 12)\n",
    "print(numbers)"
   ]
  },
  {
   "cell_type": "markdown",
   "id": "f20b02d0",
   "metadata": {},
   "source": [
    "###   return random numbers between low and high ( size have dimensional value number )"
   ]
  },
  {
   "cell_type": "code",
   "execution_count": 7,
   "id": "2f229b2b",
   "metadata": {},
   "outputs": [
    {
     "name": "stdout",
     "output_type": "stream",
     "text": [
      "[81 90 98 87 92 81]\n"
     ]
    }
   ],
   "source": [
    "random_numbers = np.random.randint(low=70, high=101, size=(6))\n",
    "print(random_number)"
   ]
  },
  {
   "cell_type": "markdown",
   "id": "30099cd6",
   "metadata": {},
   "source": [
    "### size can have two or more value  size ( 3 , 4 ) => size ( row , column )"
   ]
  },
  {
   "cell_type": "code",
   "execution_count": 8,
   "id": "533ddc37",
   "metadata": {},
   "outputs": [
    {
     "name": "stdout",
     "output_type": "stream",
     "text": [
      "[[ 84  87  82  94]\n",
      " [ 97  73  78  90]\n",
      " [100  87  89  87]]\n"
     ]
    }
   ],
   "source": [
    "random_numbers2 = np.random.randint(low=70, high=101, size=(3,4))\n",
    "print(random_numbers2)"
   ]
  },
  {
   "cell_type": "markdown",
   "id": "17ff291e",
   "metadata": {},
   "source": [
    "### return random number between 0 and 1,  ( 4 is number of numbers  )\n",
    "####  np.random.random([4])       => return one dimensional array have 4 column\n",
    "####  np.random.random([4 , 2 ]) => return two dimensional array have 4 rows and 2 columns"
   ]
  },
  {
   "cell_type": "code",
   "execution_count": 18,
   "id": "982441c0",
   "metadata": {},
   "outputs": [
    {
     "name": "stdout",
     "output_type": "stream",
     "text": [
      "[0.88323989 0.4883455  0.74099882 0.93755819]\n"
     ]
    }
   ],
   "source": [
    "random_floats = np.random.random([4])\n",
    "print(random_floats) \n"
   ]
  },
  {
   "cell_type": "markdown",
   "id": "d3aae2fd",
   "metadata": {},
   "source": [
    "### return random float numbers between 0+x and 1+x ( 4 is number of numbers  )\n",
    "### 2.0 is x value\n",
    "#### array values between 2 and 3"
   ]
  },
  {
   "cell_type": "code",
   "execution_count": 21,
   "id": "23a38229",
   "metadata": {},
   "outputs": [
    {
     "name": "stdout",
     "output_type": "stream",
     "text": [
      "[2.55817945 2.29588088 2.08795404 2.01278876]\n"
     ]
    }
   ],
   "source": [
    "random_floats_2 =  np.random.random([4]) + 2.0\n",
    "print(random_floats_2)"
   ]
  },
  {
   "cell_type": "markdown",
   "id": "6cf03725",
   "metadata": {},
   "source": [
    "### return random float numbers between 0*x and 1*x ( 4 is number of number  )\n",
    "### 3 is x value\n",
    "#### array values between 0 and 3"
   ]
  },
  {
   "cell_type": "code",
   "execution_count": 20,
   "id": "d01f1969",
   "metadata": {},
   "outputs": [
    {
     "name": "stdout",
     "output_type": "stream",
     "text": [
      "[0.97270499 0.0718615  2.55488195 1.72352001]\n"
     ]
    }
   ],
   "source": [
    "random_floats_3 =  np.random.random([4]) * 3\n",
    "print(random_floats_3)"
   ]
  },
  {
   "cell_type": "markdown",
   "id": "61393977",
   "metadata": {},
   "source": [
    "## Task 1\n",
    "\n",
    "\n",
    "#### Your goal is to create a simple dataset consisting of a single feature and a label as follows:\n",
    "#### Assign a sequence of integers from 6 to 20 (inclusive) to a NumPy array named feature.\n",
    "#### Assign 15 values to a NumPy array named label such that:\n",
    "####   label = (3)(feature) + 4\n",
    "#### For example, the first value for label should be:\n",
    "####  label = (3)(6) + 4 = 22"
   ]
  },
  {
   "cell_type": "code",
   "execution_count": 47,
   "id": "bee20ad5",
   "metadata": {},
   "outputs": [
    {
     "name": "stdout",
     "output_type": "stream",
     "text": [
      "feature is: [ 6  7  8  9 10 11 12 13 14 15 16 17 18 19 20]\n",
      "label is:   [22 25 28 31 34 37 40 43 46 49 52 55 58 61 64]  \n"
     ]
    }
   ],
   "source": [
    "feature = np.arange(6, 21)\n",
    "label = 3*feature +4\n",
    "print (f'feature is: {feature}')\n",
    "print (f'label is:   {label}  ')"
   ]
  },
  {
   "cell_type": "markdown",
   "id": "6c062c8d",
   "metadata": {},
   "source": [
    "## Task 2\n",
    "\n",
    "#### To make your dataset a little more realistic, insert a little random noise into each element of the label array you already created. To be more precise, modify each value assigned to label by adding a different random floating-point value between -2 and +2.  \n",
    "#### Don't rely on broadcasting. Instead, create a noise array having the same dimension as label.\n"
   ]
  },
  {
   "cell_type": "code",
   "execution_count": 50,
   "id": "958ae1b5",
   "metadata": {},
   "outputs": [
    {
     "name": "stdout",
     "output_type": "stream",
     "text": [
      "[ 1.35762941 -0.03340407 -0.42080261 -0.48468673 -0.83729129 -1.55384481\n",
      " -0.27894637  0.20160704 -0.25286188  1.89302478  1.59927541 -1.73653766\n",
      " -1.73554847  0.08516247  0.02848013]\n",
      "-----------------------------\n",
      "[23.41898591 24.79752771 27.75144974 30.44475729 36.53135685 35.52029534\n",
      " 37.54156563 45.04899489 45.06435538 49.64003394 50.2888469  55.05512298\n",
      " 56.41477074 64.27548023 62.38316327]\n"
     ]
    }
   ],
   "source": [
    "noise = ( np.random.random([len(label)]) *4 )- 2\n",
    "print(noise)\n",
    "print('-----------------------------')\n",
    "label = label + noise\n",
    "print(label)"
   ]
  },
  {
   "cell_type": "markdown",
   "id": "e08a5659",
   "metadata": {},
   "source": [
    "# Finish"
   ]
  }
 ],
 "metadata": {
  "kernelspec": {
   "display_name": "Python 3 (ipykernel)",
   "language": "python",
   "name": "python3"
  },
  "language_info": {
   "codemirror_mode": {
    "name": "ipython",
    "version": 3
   },
   "file_extension": ".py",
   "mimetype": "text/x-python",
   "name": "python",
   "nbconvert_exporter": "python",
   "pygments_lexer": "ipython3",
   "version": "3.11.3"
  }
 },
 "nbformat": 4,
 "nbformat_minor": 5
}
